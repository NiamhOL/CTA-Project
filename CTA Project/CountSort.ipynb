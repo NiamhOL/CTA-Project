{
 "cells": [
  {
   "cell_type": "code",
   "execution_count": 2,
   "metadata": {},
   "outputs": [
    {
     "name": "stdout",
     "output_type": "stream",
     "text": [
      "[1, 1, 1, 1, 2, 2, 2, 2, 3, 3, 4, 4, 7]\n"
     ]
    }
   ],
   "source": [
    "# code sourced from http://www.learntosolveit.com/python/algorithm_countingsort.html\n",
    "\n",
    "def counting_sort(array, maxval):\n",
    "    \"\"\"in-place counting sort\"\"\"\n",
    "    n = len(array)\n",
    "    m = maxval + 1\n",
    "    count = [0] * m               # init with zeros\n",
    "    for a in array:\n",
    "        count[a] += 1             # count occurences\n",
    "    i = 0\n",
    "    for a in range(m):            # emit\n",
    "        for c in range(count[a]): # - emit 'count[a]' copies of 'a'\n",
    "            array[i] = a\n",
    "            i += 1\n",
    "    return array\n",
    "\n",
    "print(counting_sort( [1, 4, 7, 2, 1, 3, 2, 1, 4, 2, 3, 2, 1], 7 ))"
   ]
  },
  {
   "cell_type": "code",
   "execution_count": null,
   "metadata": {},
   "outputs": [],
   "source": []
  }
 ],
 "metadata": {
  "kernelspec": {
   "display_name": "Python 3.7.1 64-bit ('Niamh': virtualenv)",
   "language": "python",
   "name": "python37164bitniamhvirtualenv288ffef71eab497daa563b780a275b87"
  },
  "language_info": {
   "codemirror_mode": {
    "name": "ipython",
    "version": 3
   },
   "file_extension": ".py",
   "mimetype": "text/x-python",
   "name": "python",
   "nbconvert_exporter": "python",
   "pygments_lexer": "ipython3",
   "version": "3.7.1"
  }
 },
 "nbformat": 4,
 "nbformat_minor": 2
}
