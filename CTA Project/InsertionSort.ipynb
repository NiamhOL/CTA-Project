{
 "cells": [
  {
   "cell_type": "code",
   "execution_count": 3,
   "metadata": {},
   "outputs": [
    {
     "name": "stdout",
     "output_type": "stream",
     "text": [
      "Sorted array is:\n",
      " 0\n",
      " 1\n",
      " 2\n",
      " 2\n",
      " 4\n",
      " 5\n",
      " 8\n"
     ]
    }
   ],
   "source": [
    "# code sourced from http://interactivepython.org\n",
    "def cocktailSort(a): \n",
    "    n = len(a) \n",
    "    swapped = True\n",
    "    start = 0\n",
    "    end = n-1\n",
    "    while (swapped == True): \n",
    "        # reset the swapped flag on entering the loop, because it might be true from a previous iteration. \n",
    "        swapped = False\n",
    "  \n",
    "        # loop from left to right same as the bubble \n",
    "        for i in range (start, end): \n",
    "            if (a[i] > a[i + 1]) : \n",
    "                a[i], a[i + 1]= a[i + 1], a[i] \n",
    "                swapped = True\n",
    "        # if nothing moved, then array is sorted. \n",
    "        if (swapped == False): \n",
    "            break\n",
    "        # otherwise, reset the swapped flag so that it can be used in the next stage \n",
    "        swapped = False\n",
    "        # move the end point back by one, because item at the end is in its rightful spot \n",
    "        end = end-1\n",
    "        # from right to left, doing the same comparison as in the previous stage \n",
    "        for i in range(end-1, start-1, -1): \n",
    "            if (a[i] > a[i + 1]): \n",
    "                a[i], a[i + 1] = a[i + 1], a[i] \n",
    "                swapped = True\n",
    "  \n",
    "        # increase the starting point, because the last stage would have moved the nextsmallest number to its rightful spot. \n",
    "        start = start + 1\n",
    "  \n",
    "# Driver code to test above \n",
    "a = [5, 1, 4, 2, 8, 0, 2] \n",
    "cocktailSort(a) \n",
    "print(\"Sorted array is:\") \n",
    "for i in range(len(a)): \n",
    "    print (\"% d\" % a[i]), "
   ]
  },
  {
   "cell_type": "code",
   "execution_count": null,
   "metadata": {},
   "outputs": [],
   "source": []
  }
 ],
 "metadata": {
  "kernelspec": {
   "display_name": "Python 3.7.1 64-bit ('Niamh': virtualenv)",
   "language": "python",
   "name": "python37164bitniamhvirtualenv288ffef71eab497daa563b780a275b87"
  },
  "language_info": {
   "codemirror_mode": {
    "name": "ipython",
    "version": 3
   },
   "file_extension": ".py",
   "mimetype": "text/x-python",
   "name": "python",
   "nbconvert_exporter": "python",
   "pygments_lexer": "ipython3",
   "version": "3.7.1"
  }
 },
 "nbformat": 4,
 "nbformat_minor": 2
}
